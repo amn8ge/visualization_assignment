{
  "cells": [
    {
      "cell_type": "markdown",
      "id": "13ad028b-72b7-43ed-aa78-96fd4e518040",
      "metadata": {
        "id": "13ad028b-72b7-43ed-aa78-96fd4e518040"
      },
      "source": [
        "# Assignment: Visualization\n",
        "### `! git clone https://github.com/ds3001f25/visualization_assignment.git`\n",
        "### Do Q1 and Q2."
      ]
    },
    {
      "cell_type": "code",
      "source": [
        "! git clone https://github.com/ds3001f25/visualization_assignment.git"
      ],
      "metadata": {
        "id": "NDTXQb812__W",
        "outputId": "253ce2ac-858a-4210-dfd4-c4ad311cdb48",
        "colab": {
          "base_uri": "https://localhost:8080/"
        }
      },
      "id": "NDTXQb812__W",
      "execution_count": 11,
      "outputs": [
        {
          "output_type": "stream",
          "name": "stdout",
          "text": [
            "Cloning into 'visualization_assignment'...\n",
            "remote: Enumerating objects: 10, done.\u001b[K\n",
            "remote: Counting objects: 100% (10/10), done.\u001b[K\n",
            "remote: Compressing objects: 100% (9/9), done.\u001b[K\n",
            "remote: Total 10 (delta 0), reused 8 (delta 0), pack-reused 0 (from 0)\u001b[K\n",
            "Receiving objects: 100% (10/10), 1.88 MiB | 4.78 MiB/s, done.\n"
          ]
        }
      ]
    },
    {
      "cell_type": "code",
      "source": [
        "cd visualization_assignment/"
      ],
      "metadata": {
        "id": "k1xLeG_S3FQ1",
        "outputId": "b78a42a5-ee03-4577-c14c-fa1cc62ad849",
        "colab": {
          "base_uri": "https://localhost:8080/"
        }
      },
      "id": "k1xLeG_S3FQ1",
      "execution_count": 12,
      "outputs": [
        {
          "output_type": "stream",
          "name": "stdout",
          "text": [
            "/content/visualization_assignment/visualization_assignment\n"
          ]
        }
      ]
    },
    {
      "cell_type": "code",
      "source": [
        "%cd data/"
      ],
      "metadata": {
        "id": "h8xKpsih3s18",
        "outputId": "0139ed1d-9e9e-4798-fb53-6ddb1da484ac",
        "colab": {
          "base_uri": "https://localhost:8080/"
        }
      },
      "id": "h8xKpsih3s18",
      "execution_count": 15,
      "outputs": [
        {
          "output_type": "stream",
          "name": "stdout",
          "text": [
            "/content/visualization_assignment/visualization_assignment/data\n"
          ]
        }
      ]
    },
    {
      "cell_type": "code",
      "source": [
        "ls -al"
      ],
      "metadata": {
        "id": "rnoKCcu24Mu-",
        "outputId": "5ef89ce6-d560-4a41-cc00-3ea1253b7f71",
        "colab": {
          "base_uri": "https://localhost:8080/"
        }
      },
      "id": "rnoKCcu24Mu-",
      "execution_count": 16,
      "outputs": [
        {
          "output_type": "stream",
          "name": "stdout",
          "text": [
            "total 4820\n",
            "drwxr-xr-x 2 root root    4096 Sep 11 03:42 \u001b[0m\u001b[01;34m.\u001b[0m/\n",
            "drwxr-xr-x 4 root root    4096 Sep 11 03:42 \u001b[01;34m..\u001b[0m/\n",
            "-rw-r--r-- 1 root root 1694435 Sep 11 03:42 college_completion.csv\n",
            "-rw-r--r-- 1 root root 1646175 Sep 11 03:42 pretrial_data.csv\n",
            "-rw-r--r-- 1 root root 1582160 Sep 11 03:42 VirginiaPretrialData2017Codebook.pdf\n"
          ]
        }
      ]
    },
    {
      "cell_type": "code",
      "source": [
        "import pandas as pd\n",
        "import numpy as np\n",
        "import matplotlib.pyplot as plt\n",
        "import seaborn as sns"
      ],
      "metadata": {
        "id": "A-EgjIZT4N3-"
      },
      "id": "A-EgjIZT4N3-",
      "execution_count": 17,
      "outputs": []
    },
    {
      "cell_type": "markdown",
      "id": "ea89b847",
      "metadata": {
        "id": "ea89b847"
      },
      "source": [
        "**Q1.** Write your own function to make a kernel density plot.\n",
        "\n",
        "- The user should pass in a Pandas series or Numpy array.\n",
        "- The default kernel should be Gaussian, but include the uniform/bump and Epanechnikov as alternatives.\n",
        "- The default bandwidth should be the Silverman plug-in, but allow the user to specify an alternative.\n",
        "- You can use Matplotlib or Seaborn's `.lineplot`, but not an existing function that creates kernel density plots.\n",
        "\n",
        "You will have to make a lot of choices and experiment with getting errors. Embrace the challenge and track your choices in the comments in your code.\n",
        "\n",
        "Use the pretrail data set from class to show that your function works, and compare it with the Seaborn `kdeplot`.\n",
        "\n",
        "We covered the Gaussian,\n",
        "$$\n",
        "k(z) = \\dfrac{1}{\\sqrt{2\\pi}}e^{-z^2/2}\n",
        "$$\n",
        "and uniform\n",
        "$$\n",
        "k(z) = \\begin{cases}\n",
        "\\frac{1}{2}, & |z| \\le 1 \\\\\n",
        "0, & |z|>1\n",
        "\\end{cases}\n",
        "$$\n",
        "kernels in class, but the Epanechnikov kernel is\n",
        "$$\n",
        "k(z) = \\begin{cases}\n",
        "\\frac{3}{4} (1-z^2), & |z| \\le 1 \\\\\n",
        "0, & |z|>1.\n",
        "\\end{cases}\n",
        "$$\n",
        "\n",
        "In order to make your code run reasonably quickly, consider using the `pdist` or `cdist` functions from SciPy to make distance calculations for arrays of points. The other leading alternative is to thoughtfully use NumPy's broadcasting features. Writing `for` loops will be slow, but that's fine."
      ]
    },
    {
      "cell_type": "code",
      "execution_count": null,
      "id": "3a40fb07",
      "metadata": {
        "id": "3a40fb07"
      },
      "outputs": [],
      "source": []
    },
    {
      "cell_type": "markdown",
      "id": "55e54a37-63fb-4df9-af65-81ee53ae00fe",
      "metadata": {
        "id": "55e54a37-63fb-4df9-af65-81ee53ae00fe"
      },
      "source": [
        "**Q2.** This question provides some practice doing exploratory data analysis and visualization.\n",
        "\n",
        "The \"relevant\" variables for this question are:\n",
        "  - `level` - Level of institution (4-year, 2-year)\n",
        "  - `aid_value` - The average amount of student aid going to undergraduate recipients\n",
        "  - `control` - Public, Private not-for-profit, Private for-profit\n",
        "  - `grad_100_value` - percentage of first-time, full-time, degree-seeking undergraduates who complete a degree or certificate program within 100 percent of expected time (bachelor's-seeking group at 4-year institutions)\n",
        "\n",
        "1. Load the `./data/college_completion.csv` data with Pandas.\n",
        "2. What are are the dimensions of the data? How many observations are there? What are the variables included? Use `.head()` to examine the first few rows of data.\n",
        "3. Cross tabulate `control` and `level`. Describe the patterns you see.\n",
        "4. For `grad_100_value`, create a histogram, kernel density plot, boxplot, and statistical description.\n",
        "5. For `grad_100_value`, create a grouped kernel density plot by `control` and by `level`. Describe what you see. Use `groupby` and `.describe` to make grouped calculations of statistical descriptions of `grad_100_value` by `level` and `control`. Which institutions appear to have the best graduation rates?\n",
        "6. Create a new variable, `df['levelXcontrol']=df['level']+', '+df['control']` that interacts level and control. Make a grouped kernel density plot. Which institutions appear to have the best graduation rates?\n",
        "7. Make a kernel density plot of `aid_value`. Now group your graph by `level` and `control`. What explains the shape of the graph? Use `groupby` and `.describe` to make grouped calculations of statistical descriptions of `aid_value` by `level` and `control`.\n",
        "8. Make a scatterplot of `grad_100_value` by `aid_value`. Describe what you see. Now make the same plot, grouping by `level` and then `control`. Describe what you see. For which kinds of institutions does aid seem to increase graduation rates?"
      ]
    },
    {
      "cell_type": "markdown",
      "source": [
        "2.1"
      ],
      "metadata": {
        "id": "6NEAdbna447q"
      },
      "id": "6NEAdbna447q"
    },
    {
      "cell_type": "code",
      "execution_count": 24,
      "id": "e92b5b79",
      "metadata": {
        "id": "e92b5b79"
      },
      "outputs": [],
      "source": [
        "college = pd.read_csv('college_completion.csv')"
      ]
    },
    {
      "cell_type": "markdown",
      "source": [
        "2.2"
      ],
      "metadata": {
        "id": "NQVt07FA49PI"
      },
      "id": "NQVt07FA49PI"
    },
    {
      "cell_type": "code",
      "source": [
        "college.head()"
      ],
      "metadata": {
        "id": "aG6rZyUx5Dht",
        "outputId": "182752ea-87b5-42db-944e-5f467e8fa12f",
        "colab": {
          "base_uri": "https://localhost:8080/",
          "height": 533
        }
      },
      "id": "aG6rZyUx5Dht",
      "execution_count": 25,
      "outputs": [
        {
          "output_type": "execute_result",
          "data": {
            "text/plain": [
              "   index  unitid                            chronname        city    state  \\\n",
              "0      0  100654               Alabama A&M University      Normal  Alabama   \n",
              "1      1  100663  University of Alabama at Birmingham  Birmingham  Alabama   \n",
              "2      2  100690                   Amridge University  Montgomery  Alabama   \n",
              "3      3  100706  University of Alabama at Huntsville  Huntsville  Alabama   \n",
              "4      4  100724             Alabama State University  Montgomery  Alabama   \n",
              "\n",
              "    level                 control  \\\n",
              "0  4-year                  Public   \n",
              "1  4-year                  Public   \n",
              "2  4-year  Private not-for-profit   \n",
              "3  4-year                  Public   \n",
              "4  4-year                  Public   \n",
              "\n",
              "                                               basic hbcu flagship  ...  \\\n",
              "0  Masters Colleges and Universities--larger prog...    X      NaN  ...   \n",
              "1  Research Universities--very high research acti...  NaN      NaN  ...   \n",
              "2            Baccalaureate Colleges--Arts & Sciences  NaN      NaN  ...   \n",
              "3  Research Universities--very high research acti...  NaN      NaN  ...   \n",
              "4  Masters Colleges and Universities--larger prog...    X      NaN  ...   \n",
              "\n",
              "   vsa_grad_after6_transfer  vsa_grad_elsewhere_after6_transfer  \\\n",
              "0                      36.4                                 5.6   \n",
              "1                       NaN                                 NaN   \n",
              "2                       NaN                                 NaN   \n",
              "3                       0.0                                 0.0   \n",
              "4                       NaN                                 NaN   \n",
              "\n",
              "  vsa_enroll_after6_transfer  vsa_enroll_elsewhere_after6_transfer  \\\n",
              "0                       17.2                                  11.1   \n",
              "1                        NaN                                   NaN   \n",
              "2                        NaN                                   NaN   \n",
              "3                        0.0                                   0.0   \n",
              "4                        NaN                                   NaN   \n",
              "\n",
              "                                             similar  state_sector_ct  \\\n",
              "0  232937|100724|405997|113607|139533|144005|2285...               13   \n",
              "1  196060|180461|201885|145600|209542|236939|1268...               13   \n",
              "2  217925|441511|205124|247825|197647|221856|1353...               16   \n",
              "3  232186|133881|196103|196413|207388|171128|1900...               13   \n",
              "4  100654|232937|242617|243197|144005|241739|2354...               13   \n",
              "\n",
              "   carnegie_ct  counted_pct  nicknames  cohort_size  \n",
              "0          386      99.7|07        NaN        882.0  \n",
              "1          106      56.0|07        UAB       1376.0  \n",
              "2          252     100.0|07        NaN          3.0  \n",
              "3          106      43.1|07        UAH        759.0  \n",
              "4          386      88.0|07        ASU       1351.0  \n",
              "\n",
              "[5 rows x 63 columns]"
            ],
            "text/html": [
              "\n",
              "  <div id=\"df-53537c49-864b-49d6-8a85-48aaafb8592e\" class=\"colab-df-container\">\n",
              "    <div>\n",
              "<style scoped>\n",
              "    .dataframe tbody tr th:only-of-type {\n",
              "        vertical-align: middle;\n",
              "    }\n",
              "\n",
              "    .dataframe tbody tr th {\n",
              "        vertical-align: top;\n",
              "    }\n",
              "\n",
              "    .dataframe thead th {\n",
              "        text-align: right;\n",
              "    }\n",
              "</style>\n",
              "<table border=\"1\" class=\"dataframe\">\n",
              "  <thead>\n",
              "    <tr style=\"text-align: right;\">\n",
              "      <th></th>\n",
              "      <th>index</th>\n",
              "      <th>unitid</th>\n",
              "      <th>chronname</th>\n",
              "      <th>city</th>\n",
              "      <th>state</th>\n",
              "      <th>level</th>\n",
              "      <th>control</th>\n",
              "      <th>basic</th>\n",
              "      <th>hbcu</th>\n",
              "      <th>flagship</th>\n",
              "      <th>...</th>\n",
              "      <th>vsa_grad_after6_transfer</th>\n",
              "      <th>vsa_grad_elsewhere_after6_transfer</th>\n",
              "      <th>vsa_enroll_after6_transfer</th>\n",
              "      <th>vsa_enroll_elsewhere_after6_transfer</th>\n",
              "      <th>similar</th>\n",
              "      <th>state_sector_ct</th>\n",
              "      <th>carnegie_ct</th>\n",
              "      <th>counted_pct</th>\n",
              "      <th>nicknames</th>\n",
              "      <th>cohort_size</th>\n",
              "    </tr>\n",
              "  </thead>\n",
              "  <tbody>\n",
              "    <tr>\n",
              "      <th>0</th>\n",
              "      <td>0</td>\n",
              "      <td>100654</td>\n",
              "      <td>Alabama A&amp;M University</td>\n",
              "      <td>Normal</td>\n",
              "      <td>Alabama</td>\n",
              "      <td>4-year</td>\n",
              "      <td>Public</td>\n",
              "      <td>Masters Colleges and Universities--larger prog...</td>\n",
              "      <td>X</td>\n",
              "      <td>NaN</td>\n",
              "      <td>...</td>\n",
              "      <td>36.4</td>\n",
              "      <td>5.6</td>\n",
              "      <td>17.2</td>\n",
              "      <td>11.1</td>\n",
              "      <td>232937|100724|405997|113607|139533|144005|2285...</td>\n",
              "      <td>13</td>\n",
              "      <td>386</td>\n",
              "      <td>99.7|07</td>\n",
              "      <td>NaN</td>\n",
              "      <td>882.0</td>\n",
              "    </tr>\n",
              "    <tr>\n",
              "      <th>1</th>\n",
              "      <td>1</td>\n",
              "      <td>100663</td>\n",
              "      <td>University of Alabama at Birmingham</td>\n",
              "      <td>Birmingham</td>\n",
              "      <td>Alabama</td>\n",
              "      <td>4-year</td>\n",
              "      <td>Public</td>\n",
              "      <td>Research Universities--very high research acti...</td>\n",
              "      <td>NaN</td>\n",
              "      <td>NaN</td>\n",
              "      <td>...</td>\n",
              "      <td>NaN</td>\n",
              "      <td>NaN</td>\n",
              "      <td>NaN</td>\n",
              "      <td>NaN</td>\n",
              "      <td>196060|180461|201885|145600|209542|236939|1268...</td>\n",
              "      <td>13</td>\n",
              "      <td>106</td>\n",
              "      <td>56.0|07</td>\n",
              "      <td>UAB</td>\n",
              "      <td>1376.0</td>\n",
              "    </tr>\n",
              "    <tr>\n",
              "      <th>2</th>\n",
              "      <td>2</td>\n",
              "      <td>100690</td>\n",
              "      <td>Amridge University</td>\n",
              "      <td>Montgomery</td>\n",
              "      <td>Alabama</td>\n",
              "      <td>4-year</td>\n",
              "      <td>Private not-for-profit</td>\n",
              "      <td>Baccalaureate Colleges--Arts &amp; Sciences</td>\n",
              "      <td>NaN</td>\n",
              "      <td>NaN</td>\n",
              "      <td>...</td>\n",
              "      <td>NaN</td>\n",
              "      <td>NaN</td>\n",
              "      <td>NaN</td>\n",
              "      <td>NaN</td>\n",
              "      <td>217925|441511|205124|247825|197647|221856|1353...</td>\n",
              "      <td>16</td>\n",
              "      <td>252</td>\n",
              "      <td>100.0|07</td>\n",
              "      <td>NaN</td>\n",
              "      <td>3.0</td>\n",
              "    </tr>\n",
              "    <tr>\n",
              "      <th>3</th>\n",
              "      <td>3</td>\n",
              "      <td>100706</td>\n",
              "      <td>University of Alabama at Huntsville</td>\n",
              "      <td>Huntsville</td>\n",
              "      <td>Alabama</td>\n",
              "      <td>4-year</td>\n",
              "      <td>Public</td>\n",
              "      <td>Research Universities--very high research acti...</td>\n",
              "      <td>NaN</td>\n",
              "      <td>NaN</td>\n",
              "      <td>...</td>\n",
              "      <td>0.0</td>\n",
              "      <td>0.0</td>\n",
              "      <td>0.0</td>\n",
              "      <td>0.0</td>\n",
              "      <td>232186|133881|196103|196413|207388|171128|1900...</td>\n",
              "      <td>13</td>\n",
              "      <td>106</td>\n",
              "      <td>43.1|07</td>\n",
              "      <td>UAH</td>\n",
              "      <td>759.0</td>\n",
              "    </tr>\n",
              "    <tr>\n",
              "      <th>4</th>\n",
              "      <td>4</td>\n",
              "      <td>100724</td>\n",
              "      <td>Alabama State University</td>\n",
              "      <td>Montgomery</td>\n",
              "      <td>Alabama</td>\n",
              "      <td>4-year</td>\n",
              "      <td>Public</td>\n",
              "      <td>Masters Colleges and Universities--larger prog...</td>\n",
              "      <td>X</td>\n",
              "      <td>NaN</td>\n",
              "      <td>...</td>\n",
              "      <td>NaN</td>\n",
              "      <td>NaN</td>\n",
              "      <td>NaN</td>\n",
              "      <td>NaN</td>\n",
              "      <td>100654|232937|242617|243197|144005|241739|2354...</td>\n",
              "      <td>13</td>\n",
              "      <td>386</td>\n",
              "      <td>88.0|07</td>\n",
              "      <td>ASU</td>\n",
              "      <td>1351.0</td>\n",
              "    </tr>\n",
              "  </tbody>\n",
              "</table>\n",
              "<p>5 rows × 63 columns</p>\n",
              "</div>\n",
              "    <div class=\"colab-df-buttons\">\n",
              "\n",
              "  <div class=\"colab-df-container\">\n",
              "    <button class=\"colab-df-convert\" onclick=\"convertToInteractive('df-53537c49-864b-49d6-8a85-48aaafb8592e')\"\n",
              "            title=\"Convert this dataframe to an interactive table.\"\n",
              "            style=\"display:none;\">\n",
              "\n",
              "  <svg xmlns=\"http://www.w3.org/2000/svg\" height=\"24px\" viewBox=\"0 -960 960 960\">\n",
              "    <path d=\"M120-120v-720h720v720H120Zm60-500h600v-160H180v160Zm220 220h160v-160H400v160Zm0 220h160v-160H400v160ZM180-400h160v-160H180v160Zm440 0h160v-160H620v160ZM180-180h160v-160H180v160Zm440 0h160v-160H620v160Z\"/>\n",
              "  </svg>\n",
              "    </button>\n",
              "\n",
              "  <style>\n",
              "    .colab-df-container {\n",
              "      display:flex;\n",
              "      gap: 12px;\n",
              "    }\n",
              "\n",
              "    .colab-df-convert {\n",
              "      background-color: #E8F0FE;\n",
              "      border: none;\n",
              "      border-radius: 50%;\n",
              "      cursor: pointer;\n",
              "      display: none;\n",
              "      fill: #1967D2;\n",
              "      height: 32px;\n",
              "      padding: 0 0 0 0;\n",
              "      width: 32px;\n",
              "    }\n",
              "\n",
              "    .colab-df-convert:hover {\n",
              "      background-color: #E2EBFA;\n",
              "      box-shadow: 0px 1px 2px rgba(60, 64, 67, 0.3), 0px 1px 3px 1px rgba(60, 64, 67, 0.15);\n",
              "      fill: #174EA6;\n",
              "    }\n",
              "\n",
              "    .colab-df-buttons div {\n",
              "      margin-bottom: 4px;\n",
              "    }\n",
              "\n",
              "    [theme=dark] .colab-df-convert {\n",
              "      background-color: #3B4455;\n",
              "      fill: #D2E3FC;\n",
              "    }\n",
              "\n",
              "    [theme=dark] .colab-df-convert:hover {\n",
              "      background-color: #434B5C;\n",
              "      box-shadow: 0px 1px 3px 1px rgba(0, 0, 0, 0.15);\n",
              "      filter: drop-shadow(0px 1px 2px rgba(0, 0, 0, 0.3));\n",
              "      fill: #FFFFFF;\n",
              "    }\n",
              "  </style>\n",
              "\n",
              "    <script>\n",
              "      const buttonEl =\n",
              "        document.querySelector('#df-53537c49-864b-49d6-8a85-48aaafb8592e button.colab-df-convert');\n",
              "      buttonEl.style.display =\n",
              "        google.colab.kernel.accessAllowed ? 'block' : 'none';\n",
              "\n",
              "      async function convertToInteractive(key) {\n",
              "        const element = document.querySelector('#df-53537c49-864b-49d6-8a85-48aaafb8592e');\n",
              "        const dataTable =\n",
              "          await google.colab.kernel.invokeFunction('convertToInteractive',\n",
              "                                                    [key], {});\n",
              "        if (!dataTable) return;\n",
              "\n",
              "        const docLinkHtml = 'Like what you see? Visit the ' +\n",
              "          '<a target=\"_blank\" href=https://colab.research.google.com/notebooks/data_table.ipynb>data table notebook</a>'\n",
              "          + ' to learn more about interactive tables.';\n",
              "        element.innerHTML = '';\n",
              "        dataTable['output_type'] = 'display_data';\n",
              "        await google.colab.output.renderOutput(dataTable, element);\n",
              "        const docLink = document.createElement('div');\n",
              "        docLink.innerHTML = docLinkHtml;\n",
              "        element.appendChild(docLink);\n",
              "      }\n",
              "    </script>\n",
              "  </div>\n",
              "\n",
              "\n",
              "    <div id=\"df-5ccd449a-338e-4a0c-bd89-04a412594498\">\n",
              "      <button class=\"colab-df-quickchart\" onclick=\"quickchart('df-5ccd449a-338e-4a0c-bd89-04a412594498')\"\n",
              "                title=\"Suggest charts\"\n",
              "                style=\"display:none;\">\n",
              "\n",
              "<svg xmlns=\"http://www.w3.org/2000/svg\" height=\"24px\"viewBox=\"0 0 24 24\"\n",
              "     width=\"24px\">\n",
              "    <g>\n",
              "        <path d=\"M19 3H5c-1.1 0-2 .9-2 2v14c0 1.1.9 2 2 2h14c1.1 0 2-.9 2-2V5c0-1.1-.9-2-2-2zM9 17H7v-7h2v7zm4 0h-2V7h2v10zm4 0h-2v-4h2v4z\"/>\n",
              "    </g>\n",
              "</svg>\n",
              "      </button>\n",
              "\n",
              "<style>\n",
              "  .colab-df-quickchart {\n",
              "      --bg-color: #E8F0FE;\n",
              "      --fill-color: #1967D2;\n",
              "      --hover-bg-color: #E2EBFA;\n",
              "      --hover-fill-color: #174EA6;\n",
              "      --disabled-fill-color: #AAA;\n",
              "      --disabled-bg-color: #DDD;\n",
              "  }\n",
              "\n",
              "  [theme=dark] .colab-df-quickchart {\n",
              "      --bg-color: #3B4455;\n",
              "      --fill-color: #D2E3FC;\n",
              "      --hover-bg-color: #434B5C;\n",
              "      --hover-fill-color: #FFFFFF;\n",
              "      --disabled-bg-color: #3B4455;\n",
              "      --disabled-fill-color: #666;\n",
              "  }\n",
              "\n",
              "  .colab-df-quickchart {\n",
              "    background-color: var(--bg-color);\n",
              "    border: none;\n",
              "    border-radius: 50%;\n",
              "    cursor: pointer;\n",
              "    display: none;\n",
              "    fill: var(--fill-color);\n",
              "    height: 32px;\n",
              "    padding: 0;\n",
              "    width: 32px;\n",
              "  }\n",
              "\n",
              "  .colab-df-quickchart:hover {\n",
              "    background-color: var(--hover-bg-color);\n",
              "    box-shadow: 0 1px 2px rgba(60, 64, 67, 0.3), 0 1px 3px 1px rgba(60, 64, 67, 0.15);\n",
              "    fill: var(--button-hover-fill-color);\n",
              "  }\n",
              "\n",
              "  .colab-df-quickchart-complete:disabled,\n",
              "  .colab-df-quickchart-complete:disabled:hover {\n",
              "    background-color: var(--disabled-bg-color);\n",
              "    fill: var(--disabled-fill-color);\n",
              "    box-shadow: none;\n",
              "  }\n",
              "\n",
              "  .colab-df-spinner {\n",
              "    border: 2px solid var(--fill-color);\n",
              "    border-color: transparent;\n",
              "    border-bottom-color: var(--fill-color);\n",
              "    animation:\n",
              "      spin 1s steps(1) infinite;\n",
              "  }\n",
              "\n",
              "  @keyframes spin {\n",
              "    0% {\n",
              "      border-color: transparent;\n",
              "      border-bottom-color: var(--fill-color);\n",
              "      border-left-color: var(--fill-color);\n",
              "    }\n",
              "    20% {\n",
              "      border-color: transparent;\n",
              "      border-left-color: var(--fill-color);\n",
              "      border-top-color: var(--fill-color);\n",
              "    }\n",
              "    30% {\n",
              "      border-color: transparent;\n",
              "      border-left-color: var(--fill-color);\n",
              "      border-top-color: var(--fill-color);\n",
              "      border-right-color: var(--fill-color);\n",
              "    }\n",
              "    40% {\n",
              "      border-color: transparent;\n",
              "      border-right-color: var(--fill-color);\n",
              "      border-top-color: var(--fill-color);\n",
              "    }\n",
              "    60% {\n",
              "      border-color: transparent;\n",
              "      border-right-color: var(--fill-color);\n",
              "    }\n",
              "    80% {\n",
              "      border-color: transparent;\n",
              "      border-right-color: var(--fill-color);\n",
              "      border-bottom-color: var(--fill-color);\n",
              "    }\n",
              "    90% {\n",
              "      border-color: transparent;\n",
              "      border-bottom-color: var(--fill-color);\n",
              "    }\n",
              "  }\n",
              "</style>\n",
              "\n",
              "      <script>\n",
              "        async function quickchart(key) {\n",
              "          const quickchartButtonEl =\n",
              "            document.querySelector('#' + key + ' button');\n",
              "          quickchartButtonEl.disabled = true;  // To prevent multiple clicks.\n",
              "          quickchartButtonEl.classList.add('colab-df-spinner');\n",
              "          try {\n",
              "            const charts = await google.colab.kernel.invokeFunction(\n",
              "                'suggestCharts', [key], {});\n",
              "          } catch (error) {\n",
              "            console.error('Error during call to suggestCharts:', error);\n",
              "          }\n",
              "          quickchartButtonEl.classList.remove('colab-df-spinner');\n",
              "          quickchartButtonEl.classList.add('colab-df-quickchart-complete');\n",
              "        }\n",
              "        (() => {\n",
              "          let quickchartButtonEl =\n",
              "            document.querySelector('#df-5ccd449a-338e-4a0c-bd89-04a412594498 button');\n",
              "          quickchartButtonEl.style.display =\n",
              "            google.colab.kernel.accessAllowed ? 'block' : 'none';\n",
              "        })();\n",
              "      </script>\n",
              "    </div>\n",
              "\n",
              "    </div>\n",
              "  </div>\n"
            ],
            "application/vnd.google.colaboratory.intrinsic+json": {
              "type": "dataframe",
              "variable_name": "college"
            }
          },
          "metadata": {},
          "execution_count": 25
        }
      ]
    },
    {
      "cell_type": "code",
      "source": [
        "print(college.shape)\n",
        "print(college.columns)"
      ],
      "metadata": {
        "id": "hI3HvLJ04uaM",
        "outputId": "7cdb8f7a-4011-487d-bc24-10554aa46ea9",
        "colab": {
          "base_uri": "https://localhost:8080/"
        }
      },
      "id": "hI3HvLJ04uaM",
      "execution_count": 28,
      "outputs": [
        {
          "output_type": "stream",
          "name": "stdout",
          "text": [
            "(3798, 63)\n",
            "Index(['index', 'unitid', 'chronname', 'city', 'state', 'level', 'control',\n",
            "       'basic', 'hbcu', 'flagship', 'long_x', 'lat_y', 'site', 'student_count',\n",
            "       'awards_per_value', 'awards_per_state_value', 'awards_per_natl_value',\n",
            "       'exp_award_value', 'exp_award_state_value', 'exp_award_natl_value',\n",
            "       'exp_award_percentile', 'ft_pct', 'fte_value', 'fte_percentile',\n",
            "       'med_sat_value', 'med_sat_percentile', 'aid_value', 'aid_percentile',\n",
            "       'endow_value', 'endow_percentile', 'grad_100_value',\n",
            "       'grad_100_percentile', 'grad_150_value', 'grad_150_percentile',\n",
            "       'pell_value', 'pell_percentile', 'retain_value', 'retain_percentile',\n",
            "       'ft_fac_value', 'ft_fac_percentile', 'vsa_year',\n",
            "       'vsa_grad_after4_first', 'vsa_grad_elsewhere_after4_first',\n",
            "       'vsa_enroll_after4_first', 'vsa_enroll_elsewhere_after4_first',\n",
            "       'vsa_grad_after6_first', 'vsa_grad_elsewhere_after6_first',\n",
            "       'vsa_enroll_after6_first', 'vsa_enroll_elsewhere_after6_first',\n",
            "       'vsa_grad_after4_transfer', 'vsa_grad_elsewhere_after4_transfer',\n",
            "       'vsa_enroll_after4_transfer', 'vsa_enroll_elsewhere_after4_transfer',\n",
            "       'vsa_grad_after6_transfer', 'vsa_grad_elsewhere_after6_transfer',\n",
            "       'vsa_enroll_after6_transfer', 'vsa_enroll_elsewhere_after6_transfer',\n",
            "       'similar', 'state_sector_ct', 'carnegie_ct', 'counted_pct', 'nicknames',\n",
            "       'cohort_size'],\n",
            "      dtype='object')\n"
          ]
        }
      ]
    },
    {
      "cell_type": "markdown",
      "source": [],
      "metadata": {
        "id": "7RugYkdf5E4z"
      },
      "id": "7RugYkdf5E4z"
    },
    {
      "cell_type": "code",
      "source": [],
      "metadata": {
        "id": "-iFhubgo4kiv"
      },
      "id": "-iFhubgo4kiv",
      "execution_count": null,
      "outputs": []
    }
  ],
  "metadata": {
    "colab": {
      "provenance": []
    },
    "kernelspec": {
      "display_name": "Python 3 (ipykernel)",
      "language": "python",
      "name": "python3"
    },
    "language_info": {
      "codemirror_mode": {
        "name": "ipython",
        "version": 3
      },
      "file_extension": ".py",
      "mimetype": "text/x-python",
      "name": "python",
      "nbconvert_exporter": "python",
      "pygments_lexer": "ipython3",
      "version": "3.10.18"
    }
  },
  "nbformat": 4,
  "nbformat_minor": 5
}